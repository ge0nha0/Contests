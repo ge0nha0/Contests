{
 "cells": [
  {
   "cell_type": "markdown",
   "id": "d2da89f9",
   "metadata": {},
   "source": [
    "https://livebook.manning.com/book/deep-learning-with-python/chapter-7/6"
   ]
  },
  {
   "cell_type": "code",
   "execution_count": null,
   "id": "f5491545",
   "metadata": {},
   "outputs": [],
   "source": [
    "# (필수) 아키텍처 유형(1,2,3) 중에서 하나를 골라 지정해야 합니다. 지정한 유형과 구현결과가 일치하지 않으면 \"기타그룹\"으로 간주함.\n",
    "DNN_TYPE = 1"
   ]
  },
  {
   "cell_type": "code",
   "execution_count": null,
   "id": "bcd6a8a0",
   "metadata": {},
   "outputs": [],
   "source": [
    "SEED = 42           # random_state 지정\n",
    "BATCH_SIZE = 32    # batch size 지정"
   ]
  },
  {
   "cell_type": "code",
   "execution_count": null,
   "id": "f25a36be",
   "metadata": {},
   "outputs": [],
   "source": [
    "%matplotlib inline\n",
    "import warnings\n",
    "warnings.filterwarnings(\"ignore\")\n",
    "\n",
    "import pandas as pd\n",
    "import numpy as np\n",
    "import matplotlib.pyplot as plt\n",
    "import seaborn as sns\n",
    "from sklearn.model_selection import train_test_split\n",
    "import random\n",
    "from sklearn.preprocessing import StandardScaler, MinMaxScaler\n",
    "\n",
    "import tensorflow as tf\n",
    "from tensorflow import keras\n",
    "import kerastuner as kt\n",
    "print(tf.__version__)\n",
    "\n",
    "#!pip install pydot"
   ]
  },
  {
   "cell_type": "code",
   "execution_count": null,
   "id": "e2b464e2",
   "metadata": {},
   "outputs": [],
   "source": [
    "# 매번 모델링을 할 때마다 동일한 결과를 얻으려면 아래 코드를 실행해야 함.\n",
    "\n",
    "def reset_seeds(seed, reset_graph_with_backend=None):\n",
    "    if reset_graph_with_backend is not None:\n",
    "        K = reset_graph_with_backend\n",
    "        K.clear_session()\n",
    "        tf.compat.v1.reset_default_graph()\n",
    "        print(\"KERAS AND TENSORFLOW GRAPHS RESET\")  # optional\n",
    "\n",
    "    np.random.seed(seed)\n",
    "    random.seed(seed)\n",
    "    tf.compat.v1.set_random_seed(seed)"
   ]
  },
  {
   "cell_type": "code",
   "execution_count": null,
   "id": "8e144581",
   "metadata": {},
   "outputs": [],
   "source": [
    "# 학습 데이터\n",
    "X_train, y_train, X_test, test_id = pd.read_pickle('/kaggle/input/kml2022f-exam/exam_data.pkl')\n",
    "\n",
    "print(X_train.shape, X_test.shape)"
   ]
  },
  {
   "cell_type": "code",
   "execution_count": null,
   "id": "18731b20",
   "metadata": {},
   "outputs": [],
   "source": [
    "# 스케일링\n",
    "#scaler = StandardScaler()\n",
    "scaler = MinMaxScaler()\n",
    "X_train = scaler.fit_transform(X_train)\n",
    "X_test = scaler.transform(X_test)\n",
    "\n",
    "# 학습 데이터를 다시 학습과 검증 데이터로 분할\n",
    "X_train, X_valid, y_train, y_valid = train_test_split(X_train, y_train, test_size=0.1, random_state=SEED)"
   ]
  },
  {
   "cell_type": "code",
   "execution_count": null,
   "id": "554b13e6",
   "metadata": {},
   "outputs": [],
   "source": [
    "inputs = keras.Input(shape=(X_train.shape[1], ))\n",
    "x1 = keras.layers.Dense(11)(inputs)\n",
    "x2 = keras.layers.Dense(11)(inputs)\n",
    "x3 = keras.layers.Dense(11)(inputs)\n",
    "\n",
    "x4 = keras.layers.Dense(5)(x1)\n",
    "\n",
    "x5 = keras.layers.Dense(3)(x4)\n",
    "x6 = keras.layers.Dense(3)(x2)\n",
    "\n",
    "x7 = keras.layers.BatchNormalization()(inputs)\n",
    "\n",
    "x8 = keras.layers.Concatenate()([x3, x5, x6, x7])\n",
    "\n",
    "outputs = keras.layers.Dense(1)(x8)\n",
    "model = keras.Model(inputs, outputs)\n",
    "\n",
    "keras.utils.plot_model(model, show_shapes=False, show_layer_names=False, dpi=100, rankdir='LR')"
   ]
  },
  {
   "cell_type": "code",
   "execution_count": null,
   "id": "03049730",
   "metadata": {},
   "outputs": [],
   "source": [
    "# Hyperparameter 범위지정 함수: hp.Boolean(), hp.Choice(), hp.Float(), hp.Int()\n",
    "\n",
    "def model_fn(hp):\n",
    "    model = keras.Model(inputs, outputs)\n",
    "    model.compile(loss='mse',\n",
    "                  optimizer=tf.keras.optimizers.Adam(hp.Choice('learning_rate', [1e-2, 1e-3, 1e-4])), # Adam # learning_rate를 바꿔도 됨\n",
    "                  metrics=[keras.metrics.RootMeanSquaredError(name='rmse')])\n",
    "    return model "
   ]
  },
  {
   "cell_type": "code",
   "execution_count": null,
   "id": "1a6ff68a",
   "metadata": {},
   "outputs": [],
   "source": [
    "# Tuner 설정\n",
    "tuner = kt.Hyperband(hypermodel=model_fn,  # Hyperband 많이 사용함. 바꿔도 됨\n",
    "                     objective=kt.Objective('val_rmse', direction=\"min\"),   \n",
    "                     max_epochs=5,   #3~5 사이가 best  # 하나의 모형을 훈련시키는 최대 에포크 수  # 너무 크게 하면 안됨\n",
    "                     hyperband_iterations=1,  # 반복 횟수 # 바꿀 필요 있음 # 너무 과도하게 ㄴㄴ\n",
    "                     seed=SEED,\n",
    "                     overwrite=True,\n",
    "                     directory='dnn_tuning')"
   ]
  },
  {
   "cell_type": "code",
   "execution_count": null,
   "id": "ad13e6d8",
   "metadata": {},
   "outputs": [],
   "source": [
    "%%time\n",
    "\n",
    "# 하이퍼튜닝 수행: tuner.search()의 파라미터는 Keras의 model.fit() 파라미터와 동일\n",
    "tuner.search(X_train, y_train, \n",
    "             validation_data=(X_valid, y_valid),\n",
    "             batch_size=BATCH_SIZE, # batch size 자체는 튜닝할수 없음\n",
    "             callbacks=[tf.keras.callbacks.EarlyStopping(monitor='val_loss', patience=1)], \n",
    "             verbose=1)\n",
    "\n",
    "# 튜닝결과 요약\n",
    "tuner.results_summary(num_trials=1)"
   ]
  },
  {
   "cell_type": "code",
   "execution_count": null,
   "id": "2b2ed9df",
   "metadata": {},
   "outputs": [],
   "source": [
    "# 모델 재현시 Seed 고정 필요\n",
    "reset_seeds(SEED)\n",
    "\n",
    "# 베스트 모델 사용\n",
    "model = tuner.get_best_models(1)[0]\n",
    "# submission 화일명에 사용\n",
    "val_rmse = model.evaluate(X_valid, y_valid, verbose=0)[1]\n",
    "\n",
    "# 전체 데이터로 재학습\n",
    "hist = model.fit(\n",
    "    x=np.concatenate((X_train, X_valid)),\n",
    "    y=np.concatenate((y_train, y_valid)),\n",
    "    batch_size=BATCH_SIZE*2, # 튜닝할 때 사용한 값과 다른 값으로 설정하는 것이 좋을 수 있음 \n",
    "    epochs=1,                # 작은값으로 설정\n",
    "    shuffle=False,      \n",
    "    verbose=2,\n",
    ")"
   ]
  },
  {
   "cell_type": "code",
   "execution_count": null,
   "id": "ffa5647a",
   "metadata": {},
   "outputs": [],
   "source": [
    "DNN_VERSION = 4.0\n",
    "\n",
    "# 예측값 얻기\n",
    "pred = model.predict(X_test).flatten()\n",
    "\n",
    "# submission 화일 생성\n",
    "filename = f'dnn_{DNN_VERSION}_{val_rmse:.2f}.csv'\n",
    "pd.DataFrame({'ID':test_id, 'Salary':pred}).to_csv('submission.csv', index=False)\n",
    "\n",
    "print(f'{filename} is ready to submit.')"
   ]
  }
 ],
 "metadata": {
  "kernelspec": {
   "display_name": "Python 3 (ipykernel)",
   "language": "python",
   "name": "python3"
  },
  "language_info": {
   "codemirror_mode": {
    "name": "ipython",
    "version": 3
   },
   "file_extension": ".py",
   "mimetype": "text/x-python",
   "name": "python",
   "nbconvert_exporter": "python",
   "pygments_lexer": "ipython3",
   "version": "3.9.7"
  }
 },
 "nbformat": 4,
 "nbformat_minor": 5
}
