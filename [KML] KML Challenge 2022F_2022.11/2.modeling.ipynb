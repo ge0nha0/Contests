{
 "cells": [
  {
   "cell_type": "markdown",
   "id": "7b94c072",
   "metadata": {},
   "source": [
    "### 유형별 피처 분리"
   ]
  },
  {
   "cell_type": "code",
   "execution_count": null,
   "id": "1fbdc464",
   "metadata": {},
   "outputs": [],
   "source": [
    "CATBOOST_VERSION = 0.97\n",
    "NFOLDS = 10\n",
    "SEED = 0\n",
    "NCOMP = 50\n",
    "P = 0.05"
   ]
  },
  {
   "cell_type": "code",
   "execution_count": null,
   "id": "9a7721a9",
   "metadata": {},
   "outputs": [],
   "source": [
    "X_train = pd.read_csv('X_train_Kyh.csv', encoding='cp949')\n",
    "y_train = pd.read_csv('y_train_Kyh.csv', encoding='cp949')\n",
    "\n",
    "X_test = pd.read_csv('X_test_Kyh.csv', encoding='cp949')"
   ]
  },
  {
   "cell_type": "code",
   "execution_count": null,
   "id": "134606ec",
   "metadata": {},
   "outputs": [],
   "source": [
    "X_train.dtypes"
   ]
  },
  {
   "cell_type": "code",
   "execution_count": null,
   "id": "adc3d25d",
   "metadata": {},
   "outputs": [],
   "source": [
    "numeric_features = ['근무경력','대학성적','근무경력^2','NaN_count','NotNull_count','출신대학*대학성적']\n",
    "categorical_features = ['직종','세부직종','출신대학','대학전공','어학시험','자격증','근무경력_세분화','마지막근무형태',\n",
    "                       '근무지역_a','근무지역_b','근무지역_c','해외근무지역','단과대','대학전공_and_경력세분화','ID',\n",
    "                       '근무경력_y', '근무경력_m', '근무지역_소분류','근무희망형태','어학시험언어','상위어학시험','new_근무지역',\n",
    "                       '근무지역_경험횟수','세부직종_연봉','숙련도','신입경력','소프트웨어대+공대','대학+전공',\n",
    "                       '근무형태+직종']\n",
    "            \n",
    "binary_features = ['직무태그', '근무지역','근무형태']"
   ]
  },
  {
   "cell_type": "code",
   "execution_count": null,
   "id": "1ca97f71",
   "metadata": {},
   "outputs": [],
   "source": [
    "X_train = X_train[numeric_features+categorical_features+binary_features]  # 순서 주의!!!\n",
    "X_test = X_test[numeric_features+categorical_features+binary_features]\n",
    "\n",
    "# CatBoost의 cat_features 파라미터에 지정할 범주형 피처 위치\n",
    "cat_index = [list(X_train.columns).index(c) for c in categorical_features]"
   ]
  },
  {
   "cell_type": "markdown",
   "id": "2f7f9158",
   "metadata": {},
   "source": [
    "### 전처리 파이프라인 구축"
   ]
  },
  {
   "cell_type": "code",
   "execution_count": null,
   "id": "167d806f",
   "metadata": {},
   "outputs": [],
   "source": [
    "# 상하한값 제한을 통한 결측값 처리 함수: FunctionTransformer를 통해 호출\n",
    "def remove_outlier(X, q=0.05):  \n",
    "    df = pd.DataFrame(X)\n",
    "    return df.apply(lambda x: x.clip(x.quantile(q), x.quantile(1-q)), axis=0).values\n",
    "\n",
    "# 회귀분석의 계수검정을 이용한 피처선택 전처리기 클래스\n",
    "class MyFeatureSelector(TransformerMixin, BaseEstimator):\n",
    "    # 전처리기 생성 즉, MyFeatureSelector() 호출시 실행\n",
    "    def __init__(self, p=0.01):\n",
    "        self.p = p\n",
    "\n",
    "    # 전처리기의 fit() 호출시 실행\n",
    "    def fit(self, X, y=None):\n",
    "        X = sm.add_constant(X)\n",
    "        results = sm.OLS(y, X).fit()\n",
    "        self.cols = list(results.pvalues[1:] <= self.p)\n",
    "        return self\n",
    "    \n",
    "    # 전처리기의 transform() 호출시 실행\n",
    "    def transform(self, X):\n",
    "        return X[:,self.cols].astype(np.int64)        \n",
    "    \n",
    "numeric_transformer = Pipeline(\n",
    "    steps=[\n",
    "        (\"imputer\", SimpleImputer(strategy=\"mean\")),\n",
    "        (\"outlier\", FunctionTransformer(remove_outlier, kw_args={'q':0.05})),\n",
    "    ]\n",
    ")\n",
    "\n",
    "categorical_transformer = Pipeline(\n",
    "    steps=[\n",
    "        (\"imputer\", SimpleImputer(strategy=\"most_frequent\")), \n",
    "        (\"encoder\", OrdinalEncoder(handle_unknown='use_encoded_value', unknown_value=99999, dtype=np.object)),\n",
    "    ]\n",
    ")\n",
    "\n",
    "binary_transformer = Pipeline(\n",
    "    steps=[\n",
    "        (\"impuer\", FunctionTransformer(lambda x: x.fillna('없음'))),      \n",
    "        (\"corpus\", FunctionTransformer(lambda x: x.str.replace('·',',').str.split(',').str.join(\" \"))),\n",
    "        (\"BoW\", CountVectorizer()),\n",
    "        (\"dense\", FunctionTransformer(lambda x: x.toarray().astype(int), accept_sparse=True)),\n",
    "    ]\n",
    ")\n",
    "\n",
    "column_transformer = ColumnTransformer(\n",
    "    transformers=[\n",
    "        (\"num\", numeric_transformer, numeric_features),\n",
    "        (\"cat\", categorical_transformer, categorical_features),\n",
    "        (\"bin1\", make_pipeline(binary_transformer, TruncatedSVD(n_components=NCOMP,random_state=SEED)), binary_features[0]),\n",
    "        (\"bin2\", make_pipeline(binary_transformer, MyFeatureSelector(p=P)), binary_features[1]),\n",
    "        (\"bin3\", make_pipeline(binary_transformer, MyFeatureSelector(p=P)), binary_features[2]),\n",
    "    ]\n",
    ")\n",
    "\n",
    "preprocessor = Pipeline(\n",
    "    steps=[\n",
    "        (\"column\", column_transformer), \n",
    "    ]\n",
    ")\n",
    "\n",
    "set_config(display=\"diagram\")\n",
    "preprocessor"
   ]
  },
  {
   "cell_type": "code",
   "execution_count": null,
   "id": "0ca15d2c",
   "metadata": {},
   "outputs": [],
   "source": [
    "X_train = preprocessor.fit_transform(X_train, y_train)\n",
    "X_test = preprocessor.transform(X_test)"
   ]
  },
  {
   "cell_type": "markdown",
   "id": "a6342660",
   "metadata": {},
   "source": [
    "### 모형생성"
   ]
  },
  {
   "cell_type": "code",
   "execution_count": null,
   "id": "abed442f",
   "metadata": {},
   "outputs": [],
   "source": [
    "%%time\n",
    "\n",
    "# 최적화된 하이퍼파라미터로 OOF를 수행하여 최종 CatBoost 모형 생성:\n",
    "# No tuning => tuning한 모델에 비해 성능이 떨어지지 않음\n",
    "\n",
    "#sscv = ShuffleSplit(test_size=.3334, n_splits=5, random_state=0)\n",
    "models = cross_validate(CatBoostRegressor(cat_features=cat_index, verbose=False, random_state=SEED),\n",
    "                        X_train, y_train, \n",
    "                        cv=NFOLDS, \n",
    "                        scoring='neg_mean_squared_error', \n",
    "                        return_estimator=True)\n",
    "oof_pred = np.array([m.predict(X_test) for m in models['estimator']]).mean(axis=0)\n",
    "\n",
    "scores = models['test_score']\n",
    "print(\"\\nCatBoost CV scores: \", np.sqrt(-1*scores))\n",
    "print(\"CatBoost CV mean = %.2f\" % np.sqrt(-1*scores.mean()), \"with std = %.2f\" % np.sqrt(scores.std()))"
   ]
  },
  {
   "cell_type": "code",
   "execution_count": null,
   "id": "e6f4d9d7",
   "metadata": {},
   "outputs": [],
   "source": [
    "# CatBoost CV mean = 829.83 with std = 378.38"
   ]
  },
  {
   "cell_type": "code",
   "execution_count": null,
   "id": "871d4063",
   "metadata": {},
   "outputs": [],
   "source": [
    "# submission 화일 생성\n",
    "filename = f'catboost_{CATBOOST_VERSION}_{np.sqrt(-1*scores.mean()):.2f}.csv'\n",
    "pd.DataFrame({'ID':test_id, 'Salary':oof_pred}).to_csv(filename, index=False)"
   ]
  },
  {
   "cell_type": "code",
   "execution_count": null,
   "id": "921b01b1",
   "metadata": {},
   "outputs": [],
   "source": [
    "pd.set_option('display.max_columns',None)"
   ]
  }
 ],
 "metadata": {
  "kernelspec": {
   "display_name": "Python 3 (ipykernel)",
   "language": "python",
   "name": "python3"
  },
  "language_info": {
   "codemirror_mode": {
    "name": "ipython",
    "version": 3
   },
   "file_extension": ".py",
   "mimetype": "text/x-python",
   "name": "python",
   "nbconvert_exporter": "python",
   "pygments_lexer": "ipython3",
   "version": "3.9.7"
  }
 },
 "nbformat": 4,
 "nbformat_minor": 5
}
