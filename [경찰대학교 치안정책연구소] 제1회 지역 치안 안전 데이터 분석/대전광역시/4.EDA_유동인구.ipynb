{
 "cells": [
  {
   "cell_type": "code",
   "execution_count": null,
   "metadata": {},
   "outputs": [],
   "source": [
    "import pandas as pd\n",
    "import numpy as np\n",
    "import matplotlib.pyplot as plt\n",
    "import seaborn as sns\n",
    "sns.set_theme(style='whitegrid', font_scale=1.0)\n",
    "sns.set_palette('Set2', n_colors=10)\n",
    "plt.rc('font', family='malgun gothic')"
   ]
  },
  {
   "cell_type": "code",
   "execution_count": null,
   "metadata": {},
   "outputs": [],
   "source": [
    "year_pop = pd.read_csv('data/대전광역시 서구_행정동별 연월별 유동인구현황.csv', encoding='CP949')\n",
    "time_pop = pd.read_csv('data/대전광역시 서구_행정동별 시간대별 유동인구 현황.csv', encoding='CP949')\n",
    "age_pop = pd.read_csv('data/대전광역시 서구_행정동별 연령대별 유동인구현황.csv', encoding='CP949')"
   ]
  },
  {
   "cell_type": "code",
   "execution_count": null,
   "metadata": {},
   "outputs": [],
   "source": [
    "year_pop = year_pop.drop(columns=['순번', '기준년', '성별코드', '데이터생성일자', '시간당 평균 유동인구수'])\n",
    "time_pop = time_pop.drop(columns=['순번', '기준년', '성별코드', '요일코드', '시간대코드' ,'데이터생성일자', '시간당 평균 유동인구수'])\n",
    "age_pop = age_pop.drop(columns=['순번', '기준년', '성별코드', '연령대코드' ,'데이터생성일자', '시간당 평균 유동인구수'])"
   ]
  },
  {
   "cell_type": "code",
   "execution_count": null,
   "metadata": {},
   "outputs": [],
   "source": [
    "time_pop[time_pop['행정동명'] == '괴곡동']"
   ]
  },
  {
   "cell_type": "code",
   "execution_count": null,
   "metadata": {},
   "outputs": [],
   "source": [
    "print(year_pop.info())\n",
    "print(time_pop.info())\n",
    "print(age_pop.info())"
   ]
  },
  {
   "cell_type": "code",
   "execution_count": null,
   "metadata": {},
   "outputs": [],
   "source": [
    "year_pop.head(10)"
   ]
  },
  {
   "cell_type": "code",
   "execution_count": null,
   "metadata": {},
   "outputs": [],
   "source": [
    "time_pop.head(10)"
   ]
  },
  {
   "cell_type": "code",
   "execution_count": null,
   "metadata": {},
   "outputs": [],
   "source": [
    "age_pop.head(10)"
   ]
  },
  {
   "cell_type": "code",
   "execution_count": null,
   "metadata": {},
   "outputs": [],
   "source": [
    "dict = {'행정동명': {'월평1동': '월평동', '월평2동': '월평동', '월평3동': '월평동',\n",
    "                    '둔산1동': '둔산동', '둔산2동': '둔산동', '둔산3동': '둔산동',\n",
    "                    '관저1동': '관저동', '관저2동': '관저동', '관저3동': '관저동',\n",
    "                    '관저1동': '관저동', '관저2동': '관저동', '관저3동': '관저동',\n",
    "                    '갈마1동': '갈마동', '갈마2동': '갈마동', \n",
    "                    '도마1동': '도마동', '도마2동': '도마동'\n",
    "                    }}\n",
    "\n",
    "year_pop = year_pop.replace(dict)\n",
    "time_pop = time_pop.replace(dict)\n",
    "age_pop = age_pop.replace(dict)"
   ]
  },
  {
   "cell_type": "code",
   "execution_count": null,
   "metadata": {},
   "outputs": [],
   "source": [
    "year_pop['행정동명'].value_counts()"
   ]
  },
  {
   "cell_type": "markdown",
   "metadata": {},
   "source": [
    "## year_pop 시각화"
   ]
  },
  {
   "cell_type": "code",
   "execution_count": null,
   "metadata": {},
   "outputs": [],
   "source": [
    "# year_pop 성별, 기준월 더해서 2021년 행정동별 유동인구수 나타내기 (지도 시각화)\n",
    "\n",
    "df1 = year_pop.groupby(['행정동명']).agg({'유동인구수':'sum'}).reset_index()\n",
    "df1.head(2)"
   ]
  },
  {
   "cell_type": "code",
   "execution_count": null,
   "metadata": {},
   "outputs": [],
   "source": [
    "plt.figure(figsize=(7, 4))\n",
    "plt.xticks(rotation=45)\n",
    "sns.barplot(x='행정동명', y='유동인구수', data=df1)"
   ]
  },
  {
   "cell_type": "code",
   "execution_count": null,
   "metadata": {},
   "outputs": [],
   "source": [
    "# year_pop 기준월 더해서 2021년 성별, 행정동별 유동인구수 나타내기\n",
    "\n",
    "df2 = year_pop.groupby(['행정동명', '성별']).agg({'유동인구수':'sum'}).reset_index()\n",
    "df2.head(2)"
   ]
  },
  {
   "cell_type": "code",
   "execution_count": null,
   "metadata": {},
   "outputs": [],
   "source": [
    "plt.figure(figsize=(7, 4))\n",
    "plt.xticks(rotation=45)\n",
    "sns.barplot(x='행정동명', y='유동인구수', hue='성별', data=df2)"
   ]
  },
  {
   "cell_type": "code",
   "execution_count": null,
   "metadata": {},
   "outputs": [],
   "source": [
    "# year_pop 성별 더해서 2021년 월별, 행정동별 유동인구수 나타내기\n",
    "\n",
    "df3 = year_pop.groupby(['행정동명', '기준월']).agg({'유동인구수':'sum'}).reset_index()\n",
    "df3.head(12)"
   ]
  },
  {
   "cell_type": "code",
   "execution_count": null,
   "metadata": {},
   "outputs": [],
   "source": [
    "plt.figure(figsize=(7, 5))\n",
    "plt.xticks(rotation=45)\n",
    "ax = sns.lineplot(x='기준월', y='유동인구수', hue='행정동명', data=df3)\n",
    "plt.legend(bbox_to_anchor = (1,1))"
   ]
  },
  {
   "cell_type": "code",
   "execution_count": null,
   "metadata": {},
   "outputs": [],
   "source": [
    "df3 = df3.pivot('기준월', '행정동명', '유동인구수')\n",
    "ax = sns.heatmap(df3, cmap='Spectral')"
   ]
  },
  {
   "cell_type": "markdown",
   "metadata": {},
   "source": [
    "## time_pop 시각화"
   ]
  },
  {
   "cell_type": "code",
   "execution_count": null,
   "metadata": {},
   "outputs": [],
   "source": [
    "# time_pop 기준월, 시간대, 성별 더해서 요일별, 행정동별 유동인구수 나타내기\n",
    "\n",
    "df4 = time_pop.groupby(['행정동명', '요일']).agg({'유동인구수':'sum'}).reset_index()\n",
    "df4.head(7)"
   ]
  },
  {
   "cell_type": "code",
   "execution_count": null,
   "metadata": {},
   "outputs": [],
   "source": [
    "from pandas.api.types import CategoricalDtype\n",
    "\n",
    "order = ['월요일','화요일','수요일','목요일','금요일','토요일','일요일']\n",
    "weekday = CategoricalDtype(categories=order, ordered=True)\n",
    "df4['요일'] = df4['요일'].astype(weekday)"
   ]
  },
  {
   "cell_type": "code",
   "execution_count": null,
   "metadata": {},
   "outputs": [],
   "source": [
    "plt.figure(figsize=(7, 5))\n",
    "plt.xticks(rotation=45)\n",
    "ax = sns.lineplot(x='요일', y='유동인구수', hue='행정동명', data=df4)\n",
    "plt.legend(bbox_to_anchor = (1,1))"
   ]
  },
  {
   "cell_type": "code",
   "execution_count": null,
   "metadata": {},
   "outputs": [],
   "source": [
    "df4 = df4.pivot('요일', '행정동명', '유동인구수')\n",
    "ax = sns.heatmap(df4, cmap='Spectral')"
   ]
  },
  {
   "cell_type": "code",
   "execution_count": null,
   "metadata": {},
   "outputs": [],
   "source": [
    "# time_pop 기준월, 요일별, 성별 더해서 시간대별, 행정동별 유동인구수 나타내기 -> 시간별 평균이 아니라서 불가"
   ]
  },
  {
   "cell_type": "markdown",
   "metadata": {},
   "source": [
    "## age_pop 시각화"
   ]
  },
  {
   "cell_type": "code",
   "execution_count": null,
   "metadata": {},
   "outputs": [],
   "source": [
    "# age_pop 기준월, 성별 더해서 연령대별, 행정동별 유동인구수 나타내기\n",
    "\n",
    "df5 = age_pop.groupby(['행정동명', '연령대']).agg({'유동인구수':'sum'}).reset_index()\n",
    "df5.head(7)"
   ]
  },
  {
   "cell_type": "code",
   "execution_count": null,
   "metadata": {},
   "outputs": [],
   "source": [
    "from pandas.api.types import CategoricalDtype\n",
    "\n",
    "order = ['9세이하', '10대', '20대', '30대', '40대', '50대', '60대', '70세이상']\n",
    "age = CategoricalDtype(categories=order, ordered=True)\n",
    "df5['연령대'] = df5['연령대'].astype(age)"
   ]
  },
  {
   "cell_type": "code",
   "execution_count": null,
   "metadata": {},
   "outputs": [],
   "source": [
    "plt.figure(figsize=(7, 5))\n",
    "plt.xticks(rotation=45)\n",
    "ax = sns.lineplot(x='연령대', y='유동인구수', hue='행정동명', data=df5)\n",
    "plt.legend(bbox_to_anchor = (1,1))"
   ]
  },
  {
   "cell_type": "code",
   "execution_count": null,
   "metadata": {},
   "outputs": [],
   "source": [
    "sns.set_theme(style='whitegrid', font_scale=2)\n",
    "sns.set_palette('Set2', n_colors=10)\n",
    "plt.rc('font', family='malgun gothic')\n",
    "\n",
    "plt.figure(figsize=(15, 6))\n",
    "plt.title('대전광역시 서구 연령대별 유동인구 HeatMap')\n",
    "\n",
    "df5 = df5.pivot('연령대', '행정동명', '유동인구수')\n",
    "ax = sns.heatmap(df5, cmap='Spectral')\n",
    "\n",
    "plt.savefig('대전광역시_서구_유동인구_연령대별.png')"
   ]
  },
  {
   "cell_type": "markdown",
   "metadata": {},
   "source": [
    "## 지도 시각화 csv 정리"
   ]
  },
  {
   "cell_type": "code",
   "execution_count": null,
   "metadata": {},
   "outputs": [],
   "source": [
    "year_pop['행정동코드'] = year_pop['행정동코드'].astype('str')"
   ]
  },
  {
   "cell_type": "code",
   "execution_count": null,
   "metadata": {},
   "outputs": [],
   "source": [
    "dict = {'행정동코드': {'3017058200': '3017058100', '3017059700': '3017059600', '3017053000': '3017052000',\n",
    "                    '3017064000': '3017063000', '3017066000': '3017063000', '3017058700': '3017058600',\n",
    "                    '3017058800': '3017058600'\n",
    "                    }}\n",
    "\n",
    "year_pop = year_pop.replace(dict)"
   ]
  },
  {
   "cell_type": "code",
   "execution_count": null,
   "metadata": {},
   "outputs": [],
   "source": [
    "df6 = year_pop.groupby(['행정동명', '행정동코드']).agg({'유동인구수':'sum'}).reset_index()\n",
    "df6.head(2)"
   ]
  },
  {
   "cell_type": "code",
   "execution_count": null,
   "metadata": {},
   "outputs": [],
   "source": [
    "dict = {'행정동코드': {'3017058600': '30170113','3017058700': '30170113', '3017058800': '30170113', \n",
    "                    '3017063000': '30170112', '3017064000': '30170112', '3017066000': '30170112',\n",
    "                    '3017052000': '30170103', '3017053000': '30170103', '3017058100': '30170111',\n",
    "                    '3017058200': '30170111', '3017059600': '30170116', '3017059700': '30170116', \n",
    "                    '3017051000': '30170101', '3017053500': '30170104', '3017054000': '30170102',\n",
    "                    '3017055000': '30170105', '3017059000': '30170114', '3017065000': '30170128',\n",
    "                    '3017055500': '30170106', '3017056000': '30170108', '3017057000': '30170109',\n",
    "                    '3017057500': '30170110',\n",
    "                    }}\n",
    "\n",
    "df6 = df6.replace(dict)"
   ]
  },
  {
   "cell_type": "code",
   "execution_count": null,
   "metadata": {},
   "outputs": [],
   "source": [
    "df6.to_csv('C:\\LSMD_ADM_SECT_UMD_대전/대전광역시_서구_유동인구.csv')"
   ]
  },
  {
   "cell_type": "markdown",
   "metadata": {},
   "source": [
    "### 지도 시각화는 QGIS로 진행"
   ]
  }
 ],
 "metadata": {
  "kernelspec": {
   "display_name": "Python 3 (ipykernel)",
   "language": "python",
   "name": "python3"
  },
  "language_info": {
   "codemirror_mode": {
    "name": "ipython",
    "version": 3
   },
   "file_extension": ".py",
   "mimetype": "text/x-python",
   "name": "python",
   "nbconvert_exporter": "python",
   "pygments_lexer": "ipython3",
   "version": "3.9.7"
  },
  "vscode": {
   "interpreter": {
    "hash": "0a6afe0b0dca26bed7d71640a78ce7616cd216d1dd54e297bce51db5f94c3b37"
   }
  }
 },
 "nbformat": 4,
 "nbformat_minor": 2
}
