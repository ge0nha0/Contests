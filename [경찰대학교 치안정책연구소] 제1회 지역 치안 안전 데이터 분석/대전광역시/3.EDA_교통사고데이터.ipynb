{
 "cells": [
  {
   "cell_type": "code",
   "execution_count": null,
   "metadata": {},
   "outputs": [],
   "source": [
    "import pandas as pd\n",
    "import numpy as np\n",
    "import matplotlib.pyplot as plt\n",
    "import seaborn as sns\n",
    "sns.set_theme(style='whitegrid', font_scale=1.0)\n",
    "sns.set_palette('Set2', n_colors=10)\n",
    "plt.rc('font', family='malgun gothic')"
   ]
  },
  {
   "cell_type": "code",
   "execution_count": null,
   "metadata": {},
   "outputs": [],
   "source": [
    "d_cds = pd.read_csv('data/csd_대전광역시.csv', encoding='utf-8')"
   ]
  },
  {
   "cell_type": "code",
   "execution_count": null,
   "metadata": {},
   "outputs": [],
   "source": [
    "d_cds.head()"
   ]
  },
  {
   "cell_type": "code",
   "execution_count": null,
   "metadata": {},
   "outputs": [],
   "source": [
    "filter = d_cds['시군구'].str.contains('둔산동')\n",
    "d_cds = d_cds[filter]"
   ]
  },
  {
   "cell_type": "code",
   "execution_count": null,
   "metadata": {},
   "outputs": [],
   "source": [
    "d_cds['사고일시'] = pd.to_datetime(d_cds['사고일시'], format='%Y년 %m월 %d일 %H시')"
   ]
  },
  {
   "cell_type": "code",
   "execution_count": null,
   "metadata": {},
   "outputs": [],
   "source": [
    "d_cds['가해운전자 연령'] = d_cds['가해운전자 연령'].str.replace('세','')\n",
    "d_cds[d_cds['가해운전자 연령'] == '미분류'] = np.nan\n",
    "d_cds['가해운전자 연령'] = d_cds['가해운전자 연령'].astype('float')"
   ]
  },
  {
   "cell_type": "code",
   "execution_count": null,
   "metadata": {},
   "outputs": [],
   "source": [
    "d_cds['피해운전자 연령'] = d_cds['피해운전자 연령'].str.replace('세 이상', '')\n",
    "d_cds['피해운전자 연령'] = d_cds['피해운전자 연령'].str.replace('세','')\n",
    "d_cds[d_cds['피해운전자 연령'] == '미분류'] = np.nan\n",
    "d_cds['피해운전자 연령'] = d_cds['피해운전자 연령'].astype('float')"
   ]
  },
  {
   "cell_type": "code",
   "execution_count": null,
   "metadata": {},
   "outputs": [],
   "source": [
    "d_cds['가해운전자 연령'] = d_cds['가해운전자 연령'].clip(lower=20)"
   ]
  },
  {
   "cell_type": "code",
   "execution_count": null,
   "metadata": {},
   "outputs": [],
   "source": [
    "d_cds['피해운전자 연령'] = d_cds['피해운전자 연령'].clip(lower=20)\n"
   ]
  },
  {
   "cell_type": "code",
   "execution_count": null,
   "metadata": {},
   "outputs": [],
   "source": [
    "# 시간별\n",
    "plt.figure(figsize=(10,4))\n",
    "sns.countplot(x=d_cds['사고일시'].dt.hour, data=d_cds)"
   ]
  },
  {
   "cell_type": "code",
   "execution_count": null,
   "metadata": {},
   "outputs": [],
   "source": [
    "# 월별\n",
    "plt.figure(figsize=(7,4))\n",
    "sns.countplot(x=d_cds['사고일시'].dt.month, data=d_cds)"
   ]
  },
  {
   "cell_type": "code",
   "execution_count": null,
   "metadata": {},
   "outputs": [],
   "source": [
    "from pandas.api.types import CategoricalDtype\n",
    "\n",
    "order = ['월요일', '화요일', '수요일', '목요일', '금요일', '토요일', '일요일']\n",
    "weekday = CategoricalDtype(categories=order, ordered=True)\n",
    "d_cds['요일'] = d_cds['요일'].astype(weekday)"
   ]
  },
  {
   "cell_type": "code",
   "execution_count": null,
   "metadata": {},
   "outputs": [],
   "source": [
    "plt.figure(figsize=(6,4))\n",
    "sns.countplot(x='요일', data=d_cds)"
   ]
  },
  {
   "cell_type": "code",
   "execution_count": null,
   "metadata": {},
   "outputs": [],
   "source": [
    "plt.figure(figsize=(7, 4))\n",
    "sns.countplot(x='사고내용', data=d_cds)"
   ]
  },
  {
   "cell_type": "code",
   "execution_count": null,
   "metadata": {},
   "outputs": [],
   "source": [
    "plt.figure(figsize=(7, 4))\n",
    "plt.xticks(rotation=-90)\n",
    "sns.countplot(x='사고유형', data=d_cds)"
   ]
  },
  {
   "cell_type": "code",
   "execution_count": null,
   "metadata": {},
   "outputs": [],
   "source": [
    "plt.figure(figsize=(7, 4))\n",
    "plt.xticks(rotation=-90)\n",
    "sns.countplot(x='법규위반', data=d_cds)"
   ]
  },
  {
   "cell_type": "code",
   "execution_count": null,
   "metadata": {},
   "outputs": [],
   "source": [
    "plt.figure(figsize=(7, 4))\n",
    "plt.xticks(rotation=-90)\n",
    "sns.countplot(x='노면상태', data=d_cds)"
   ]
  },
  {
   "cell_type": "code",
   "execution_count": null,
   "metadata": {},
   "outputs": [],
   "source": [
    "plt.figure(figsize=(7, 4))\n",
    "plt.xticks(rotation=-90)\n",
    "sns.countplot(x='기상상태', data=d_cds)"
   ]
  },
  {
   "cell_type": "code",
   "execution_count": null,
   "metadata": {},
   "outputs": [],
   "source": [
    "plt.figure(figsize=(7, 4))\n",
    "plt.xticks(rotation=-90)\n",
    "sns.countplot(x='도로형태', data=d_cds)"
   ]
  },
  {
   "cell_type": "code",
   "execution_count": null,
   "metadata": {},
   "outputs": [],
   "source": [
    "plt.figure(figsize=(7, 4))\n",
    "plt.xticks(rotation=-90)\n",
    "sns.countplot(x='가해운전자 차종', data=d_cds)"
   ]
  },
  {
   "cell_type": "code",
   "execution_count": null,
   "metadata": {},
   "outputs": [],
   "source": [
    "plt.figure(figsize=(7, 4))\n",
    "plt.xticks(rotation=-90)\n",
    "sns.countplot(x='가해운전자 성별', data=d_cds)"
   ]
  },
  {
   "cell_type": "code",
   "execution_count": null,
   "metadata": {},
   "outputs": [],
   "source": [
    "sns.displot(x='가해운전자 연령', kind='hist', rug=True, bins=50, height=7, data=d_cds);"
   ]
  },
  {
   "cell_type": "code",
   "execution_count": null,
   "metadata": {},
   "outputs": [],
   "source": [
    "plt.figure(figsize=(7, 4))\n",
    "plt.xticks(rotation=-90)\n",
    "sns.countplot(x='가해운전자 상해정도', data=d_cds)"
   ]
  },
  {
   "cell_type": "code",
   "execution_count": null,
   "metadata": {},
   "outputs": [],
   "source": [
    "plt.figure(figsize=(7, 4))\n",
    "plt.xticks(rotation=-90)\n",
    "sns.countplot(x='피해운전자 차종', data=d_cds)"
   ]
  },
  {
   "cell_type": "code",
   "execution_count": null,
   "metadata": {},
   "outputs": [],
   "source": [
    "plt.figure(figsize=(7, 4))\n",
    "plt.xticks(rotation=-90)\n",
    "sns.countplot(x='피해운전자 성별', data=d_cds)"
   ]
  },
  {
   "cell_type": "code",
   "execution_count": null,
   "metadata": {},
   "outputs": [],
   "source": [
    "sns.displot(x='피해운전자 연령', kind='hist', rug=True, bins=50, height=7, data=d_cds)"
   ]
  },
  {
   "cell_type": "code",
   "execution_count": null,
   "metadata": {},
   "outputs": [],
   "source": [
    "plt.figure(figsize=(7, 4))\n",
    "plt.xticks(rotation=-90)\n",
    "sns.countplot(x='피해운전자 상해정도', data=d_cds)"
   ]
  },
  {
   "cell_type": "code",
   "execution_count": null,
   "metadata": {},
   "outputs": [],
   "source": [
    "d_cds.select_dtypes(['object']).describe().T"
   ]
  },
  {
   "cell_type": "code",
   "execution_count": null,
   "metadata": {},
   "outputs": [],
   "source": [
    "sns.set_theme(style='whitegrid', font_scale=2)\n",
    "sns.set_palette('Set2', n_colors=10)\n",
    "plt.rc('font', family='malgun gothic')\n",
    "\n",
    "plt.figure(figsize=(40, 10))\n",
    "\n",
    "plt.subplot(1, 3, 1)\n",
    "plt.title('사고 요일')\n",
    "sns.countplot(x='요일', data=d_cds)\n",
    "\n",
    "plt.subplot(1, 3, 2)\n",
    "plt.title('가해자 연령')\n",
    "sns.histplot(x='가해운전자 연령', bins=50, data=d_cds)\n",
    "\n",
    "plt.subplot(1, 3, 3)\n",
    "plt.title('피해자 연령')\n",
    "sns.histplot(x='피해운전자 연령', bins=50, data=d_cds)\n",
    "\n",
    "plt.savefig('대전광역시_taas.png')"
   ]
  }
 ],
 "metadata": {
  "kernelspec": {
   "display_name": "Python 3 (ipykernel)",
   "language": "python",
   "name": "python3"
  },
  "language_info": {
   "codemirror_mode": {
    "name": "ipython",
    "version": 3
   },
   "file_extension": ".py",
   "mimetype": "text/x-python",
   "name": "python",
   "nbconvert_exporter": "python",
   "pygments_lexer": "ipython3",
   "version": "3.9.7"
  },
  "vscode": {
   "interpreter": {
    "hash": "0a6afe0b0dca26bed7d71640a78ce7616cd216d1dd54e297bce51db5f94c3b37"
   }
  }
 },
 "nbformat": 4,
 "nbformat_minor": 2
}
