{
 "cells": [
  {
   "cell_type": "code",
   "execution_count": null,
   "metadata": {},
   "outputs": [],
   "source": [
    "import pandas as pd\n",
    "import numpy as np\n",
    "import matplotlib.pyplot as plt\n",
    "import seaborn as sns\n",
    "import matplotlib_hangul"
   ]
  },
  {
   "cell_type": "code",
   "execution_count": null,
   "metadata": {},
   "outputs": [],
   "source": [
    "acc = pd.read_csv('data/충대세_사고다발지역.csv', encoding='cp949')"
   ]
  },
  {
   "cell_type": "code",
   "execution_count": null,
   "metadata": {},
   "outputs": [],
   "source": [
    "acc.head(3)"
   ]
  },
  {
   "cell_type": "markdown",
   "metadata": {},
   "source": [
    "# _Missing value_"
   ]
  },
  {
   "cell_type": "code",
   "execution_count": null,
   "metadata": {},
   "outputs": [],
   "source": [
    "print('npa20 결측치 비율 \\n')\n",
    "\n",
    "for col in npa20.columns:\n",
    "    msg = 'column: {:>10}\\t Percent of NaN value: {:.2f}%'.format(\n",
    "        col, 100 * npa20[col].isnull().sum() / npa20[col].shape[0])\n",
    "    print(msg)"
   ]
  },
  {
   "cell_type": "markdown",
   "metadata": {},
   "source": [
    "# _EDA_"
   ]
  },
  {
   "cell_type": "code",
   "execution_count": null,
   "metadata": {},
   "outputs": [],
   "source": [
    "acc['사고다발지FID'] = acc['사고다발지FID'].astype('str')"
   ]
  },
  {
   "cell_type": "code",
   "execution_count": null,
   "metadata": {},
   "outputs": [],
   "source": [
    "acc_top10 = acc.sort_values(by='사고건수', ascending=False).groupby('지점명').head(10)"
   ]
  },
  {
   "cell_type": "code",
   "execution_count": null,
   "metadata": {},
   "outputs": [],
   "source": [
    "# 전체지역 사고건수 상위 10개\n",
    "plt.figure(figsize=(8,6))\n",
    "ax = sns.barplot(x='사고다발지FID', y='사고건수', data=acc_top10[:10], palette='Set2')"
   ]
  },
  {
   "cell_type": "code",
   "execution_count": null,
   "metadata": {},
   "outputs": [],
   "source": [
    "acc_top10[:10]['지점명'].to_list()"
   ]
  },
  {
   "cell_type": "code",
   "execution_count": null,
   "metadata": {},
   "outputs": [],
   "source": [
    "acc_top10 = acc.sort_values(by='사상자수', ascending=False).groupby('지점명').head(10)"
   ]
  },
  {
   "cell_type": "code",
   "execution_count": null,
   "metadata": {},
   "outputs": [],
   "source": [
    "# 전체지역 사상자수 상위 10개\n",
    "plt.figure(figsize=(8, 6))\n",
    "ax = sns.barplot(x='사고다발지FID', y='사상자수', data=acc_top10[:10], palette='Set2')"
   ]
  },
  {
   "cell_type": "code",
   "execution_count": null,
   "metadata": {},
   "outputs": [],
   "source": [
    "acc_top10[:10]['지점명'].to_list()"
   ]
  },
  {
   "cell_type": "code",
   "execution_count": null,
   "metadata": {},
   "outputs": [],
   "source": [
    "acc_filter = acc['시도시군구명'].str.contains('대전광역시')\n",
    "acc_d = acc[acc_filter]"
   ]
  },
  {
   "cell_type": "code",
   "execution_count": null,
   "metadata": {},
   "outputs": [],
   "source": [
    "acc_d_top5 = acc_d.sort_values(by='사고건수', ascending=False).groupby('지점명').head(5)"
   ]
  },
  {
   "cell_type": "code",
   "execution_count": null,
   "metadata": {},
   "outputs": [],
   "source": [
    "# 대전광역시 사고건수 상위 5개\n",
    "plt.figure(figsize=(6, 4))\n",
    "ax = sns.barplot(x='사고다발지FID', y='사고건수', data=acc_d_top5[:5], palette='Set2')"
   ]
  },
  {
   "cell_type": "code",
   "execution_count": null,
   "metadata": {},
   "outputs": [],
   "source": [
    "acc_d_top5[:5]['지점명'].to_list()"
   ]
  },
  {
   "cell_type": "code",
   "execution_count": null,
   "metadata": {},
   "outputs": [],
   "source": [
    "acc_d_top5.head()"
   ]
  },
  {
   "cell_type": "code",
   "execution_count": null,
   "metadata": {},
   "outputs": [],
   "source": [
    "acc_filter = acc['시도시군구명'].str.contains('충청남도')\n",
    "acc_c = acc[acc_filter]"
   ]
  },
  {
   "cell_type": "code",
   "execution_count": null,
   "metadata": {},
   "outputs": [],
   "source": [
    "acc_c_top5 = acc_c.sort_values(by='사고건수', ascending=False).groupby('지점명').head(5)"
   ]
  },
  {
   "cell_type": "code",
   "execution_count": null,
   "metadata": {},
   "outputs": [],
   "source": [
    "# 충청남도 사고건수 상위 5개\n",
    "plt.figure(figsize=(6, 4))\n",
    "ax = sns.barplot(x='사고다발지FID', y='사고건수', data=acc_c_top5[:5], palette='Set2')"
   ]
  },
  {
   "cell_type": "code",
   "execution_count": null,
   "metadata": {},
   "outputs": [],
   "source": [
    "acc_c_top5[:5]['지점명'].to_list()"
   ]
  },
  {
   "cell_type": "code",
   "execution_count": null,
   "metadata": {},
   "outputs": [],
   "source": [
    "acc_c_low5[:5]['지점명'].to_list()"
   ]
  },
  {
   "cell_type": "code",
   "execution_count": null,
   "metadata": {},
   "outputs": [],
   "source": [
    "acc_filter = acc['시도시군구명'].str.contains('세종특별자지치')\n",
    "acc_s = acc[acc_filter]"
   ]
  },
  {
   "cell_type": "code",
   "execution_count": null,
   "metadata": {},
   "outputs": [],
   "source": [
    "acc_s_top5 = acc_s.sort_values(by='사고건수', ascending=False).groupby('지점명').head(5)"
   ]
  },
  {
   "cell_type": "code",
   "execution_count": null,
   "metadata": {},
   "outputs": [],
   "source": [
    "# 세종특별자치시 사고건수 상위 5개\n",
    "plt.figure(figsize=(6, 4))\n",
    "ax = sns.barplot(x='사고다발지FID', y='사고건수', data=acc_s_top5[:5], palette='Set2')"
   ]
  },
  {
   "cell_type": "code",
   "execution_count": null,
   "metadata": {},
   "outputs": [],
   "source": [
    "acc_s_top5[:5]['지점명'].to_list()"
   ]
  }
 ],
 "metadata": {
  "kernelspec": {
   "display_name": "Python 3 (ipykernel)",
   "language": "python",
   "name": "python3"
  },
  "language_info": {
   "codemirror_mode": {
    "name": "ipython",
    "version": 3
   },
   "file_extension": ".py",
   "mimetype": "text/x-python",
   "name": "python",
   "nbconvert_exporter": "python",
   "pygments_lexer": "ipython3",
   "version": "3.9.7"
  },
  "vscode": {
   "interpreter": {
    "hash": "0a6afe0b0dca26bed7d71640a78ce7616cd216d1dd54e297bce51db5f94c3b37"
   }
  }
 },
 "nbformat": 4,
 "nbformat_minor": 2
}
