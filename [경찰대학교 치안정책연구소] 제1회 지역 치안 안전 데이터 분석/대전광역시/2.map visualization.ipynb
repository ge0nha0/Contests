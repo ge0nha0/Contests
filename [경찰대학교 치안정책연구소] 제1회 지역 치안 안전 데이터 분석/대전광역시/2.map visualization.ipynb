{
 "cells": [
  {
   "cell_type": "code",
   "execution_count": null,
   "metadata": {},
   "outputs": [],
   "source": [
    "import pandas as pd\n",
    "import numpy as np\n",
    "import matplotlib.pyplot as plt\n",
    "import seaborn as sns\n",
    "import matplotlib_hangul"
   ]
  },
  {
   "cell_type": "code",
   "execution_count": null,
   "metadata": {},
   "outputs": [],
   "source": [
    "kp20 = pd.read_csv('data/KP2020.csv', encoding='CP949')\n",
    "kp21 = pd.read_csv('data/KP2021.csv', encoding='CP949')\n",
    "cds = pd.read_csv('data/충청대전세종.csv', encoding='utf-8')\n",
    "acc = pd.read_csv('data/충대세_사고다발지역.csv', encoding='cp949')\n",
    "d_cam = pd.read_csv('data/대전광역시_무인교통단속카메라.csv', encoding='cp949')\n",
    "d_light = pd.read_csv('data/대전광역시_가로등.csv', encoding='cp949')\n",
    "d_traf = pd.read_csv('data/대전광역시_신호등.csv', encoding='cp949')\n",
    "d_park = pd.read_csv('data/대전광역시_둔산동_주차장.csv', encoding='utf-8')"
   ]
  },
  {
   "cell_type": "code",
   "execution_count": null,
   "metadata": {},
   "outputs": [],
   "source": [
    "kp20 = kp20.set_axis(['접수부서','접수완료일시','경찰청','사건상태','사건종별','신고자성별','발생지점','경도','위도','동일사건발생'],axis='columns')\n",
    "kp21 = kp21.set_axis(['접수부서','접수완료일시','경찰청','사건상태','사건종별','신고자성별','발생지점','경도','위도','동일사건발생'],axis='columns')"
   ]
  },
  {
   "cell_type": "code",
   "execution_count": null,
   "metadata": {},
   "outputs": [],
   "source": [
    "kp2021 = pd.concat([kp20,kp21], ignore_index = True)"
   ]
  },
  {
   "cell_type": "code",
   "execution_count": null,
   "metadata": {},
   "outputs": [],
   "source": [
    "print(kp2021.shape)\n",
    "print(npa20.shape)\n",
    "print(cds.shape)\n",
    "print(acc.shape)"
   ]
  },
  {
   "cell_type": "code",
   "execution_count": null,
   "metadata": {},
   "outputs": [],
   "source": [
    "kp2021.info()"
   ]
  },
  {
   "cell_type": "code",
   "execution_count": null,
   "metadata": {},
   "outputs": [],
   "source": [
    "npa20.info()"
   ]
  },
  {
   "cell_type": "code",
   "execution_count": null,
   "metadata": {},
   "outputs": [],
   "source": [
    "cds.info()"
   ]
  },
  {
   "cell_type": "code",
   "execution_count": null,
   "metadata": {},
   "outputs": [],
   "source": [
    "acc.info()"
   ]
  },
  {
   "cell_type": "markdown",
   "metadata": {},
   "source": [
    "# _Data Preprocessing_"
   ]
  },
  {
   "cell_type": "markdown",
   "metadata": {},
   "source": [
    "### kp feature"
   ]
  },
  {
   "cell_type": "code",
   "execution_count": null,
   "metadata": {},
   "outputs": [],
   "source": [
    "condition1 = (\n",
    "    (kp2021.경찰청 == 13) |\n",
    "    (kp2021.경찰청 == 19) |\n",
    "    (kp2021.경찰청 == 31)\n",
    ")\n",
    "\n",
    "kp2021 = kp2021.loc[condition1]\n"
   ]
  },
  {
   "cell_type": "code",
   "execution_count": null,
   "metadata": {},
   "outputs": [],
   "source": [
    "condition2 = (\n",
    "    (kp2021.사건종별 == 4) |\n",
    "    (kp2021.사건종별 == 401) |\n",
    "    (kp2021.사건종별 == 402) |\n",
    "    (kp2021.사건종별 == 403) |\n",
    "    (kp2021.사건종별 == 405) |\n",
    "    (kp2021.사건종별 == 406)\n",
    ")\n",
    "\n",
    "kp2021 = kp2021.loc[condition2]"
   ]
  },
  {
   "cell_type": "code",
   "execution_count": null,
   "metadata": {},
   "outputs": [],
   "source": [
    "kp2021.경찰청 = kp2021.경찰청.replace(\n",
    "    {13:'대전청', 19:'충남청', 31:'세종청'})\n",
    "\n",
    "kp2021.사건상태 = kp2021.사건상태.replace(\n",
    "    {1:'접수중', 2:'접수', 3:'초기지령', 5:'도착', 6:'네비종결', 7:'종결요청', 8:'지령취소', 9:'타청이첩', 10:'종결요청'})\n",
    "\n",
    "kp2021.사건종별 = kp2021.사건종별.replace(\n",
    "    {4:'교통', 401:'교통사고', 402:'교통불편', 403:'교통위반', 405:'인피도주', 406:'음주운전'})\n",
    "\n",
    "kp2021.신고자성별 = kp2021.신고자성별.replace(\n",
    "    {1.0:'남성', 2.0:'여성', 3.0:'불상'})"
   ]
  },
  {
   "cell_type": "code",
   "execution_count": null,
   "metadata": {},
   "outputs": [],
   "source": [
    "kp2021 = kp2021.drop_duplicates(['사건종별','경도','위도','동일사건발생'], keep='first', ignore_index=True)"
   ]
  },
  {
   "cell_type": "markdown",
   "metadata": {},
   "source": [
    "# _Visualization_"
   ]
  },
  {
   "cell_type": "code",
   "execution_count": null,
   "metadata": {},
   "outputs": [],
   "source": [
    "import folium"
   ]
  },
  {
   "cell_type": "code",
   "execution_count": null,
   "metadata": {},
   "outputs": [],
   "source": [
    "latitude = 36.3511923\n",
    "longitude = 127.3757906"
   ]
  },
  {
   "cell_type": "code",
   "execution_count": null,
   "metadata": {},
   "outputs": [],
   "source": [
    "m = folium.Map(location=[latitude, longitude],\n",
    "               zoom_start=16)"
   ]
  },
  {
   "cell_type": "code",
   "execution_count": null,
   "metadata": {},
   "outputs": [],
   "source": [
    "kp2021 = kp2021[kp2021['경찰청'] == '대전청']"
   ]
  },
  {
   "cell_type": "code",
   "execution_count": null,
   "metadata": {},
   "outputs": [],
   "source": [
    "kp2021.dropna(subset=['위도', '경도'], inplace=True)"
   ]
  },
  {
   "cell_type": "code",
   "execution_count": null,
   "metadata": {},
   "outputs": [],
   "source": [
    "from folium.plugins import MarkerCluster\n",
    "\n",
    "coords = kp2021[['위도', '경도']]\n",
    "\n",
    "marker_cluster = MarkerCluster().add_to(m)\n",
    "\n",
    "for lat, long in zip(coords['위도'], coords['경도']):\n",
    "    folium.Marker([lat, long], popup='사고지역', icon=folium.Icon(\n",
    "        icon='exclamation-sign', color='red')).add_to(marker_cluster)\n"
   ]
  },
  {
   "cell_type": "code",
   "execution_count": null,
   "metadata": {},
   "outputs": [],
   "source": [
    "coords = d_cam[['위도', '경도']]\n",
    "\n",
    "for lat, long in zip(coords['위도'], coords['경도']):\n",
    "    folium.Marker([lat, long], popup='단속카메라', icon=folium.Icon(\n",
    "        icon='facetime-video', color='blue')).add_to(m)\n"
   ]
  },
  {
   "cell_type": "code",
   "execution_count": null,
   "metadata": {},
   "outputs": [],
   "source": [
    "coords = d_light[['위도', '경도']]\n",
    "\n",
    "for lat, long in zip(coords['위도'], coords['경도']):\n",
    "    folium.Marker([lat, long], popup='가로등', icon = folium.Icon(icon='star', color='orange')).add_to(marker_cluster)"
   ]
  },
  {
   "cell_type": "code",
   "execution_count": null,
   "metadata": {},
   "outputs": [],
   "source": [
    "coords = d_traf[['위도', '경도']]\n",
    "\n",
    "for lat, long in zip(coords['위도'], coords['경도']):\n",
    "    folium.Marker([lat, long], popup='신호등', icon=folium.Icon(\n",
    "        icon='ice-lolly', color='green')).add_to(marker_cluster)\n"
   ]
  },
  {
   "cell_type": "code",
   "execution_count": null,
   "metadata": {},
   "outputs": [],
   "source": [
    "coords = d_park[['위도', '경도']]\n",
    "\n",
    "for lat, long in zip(coords['위도'], coords['경도']):\n",
    "    folium.Marker([lat, long], popup='주차장', icon=folium.Icon(\n",
    "        icon='inbox', color='purple')).add_to(m)"
   ]
  },
  {
   "cell_type": "code",
   "execution_count": null,
   "metadata": {},
   "outputs": [],
   "source": [
    "# 대전광역시 서구 둔산동(대덕대로179 인근)\n",
    "latitude_1 = 36.349281\n",
    "longitude_1 = 127.377047   \n",
    "\n",
    "# 대전광역시 서구 둔산동(수협은행둔산지점 인근)\n",
    "latitude_2 = 36.349725\n",
    "longitude_2 = 127.377347   \n",
    "\n",
    "# 대전광역시 서구 둔산동(계룡로네거리 인근)\n",
    "latitude_3 = 36.349281\n",
    "longitude_3 = 127.377047   \n",
    "\n",
    "# 대전광역시 서구 둔산동(계룡로네거리 인근)\n",
    "latitude_4 = 36.349725\n",
    "longitude_4 = 127.377347   \n",
    "\n",
    "# 대전광역시 서구 갈마동(갈마네거리 인근)\n",
    "latitude_5 = 36.353086\n",
    "longitude_5 = 127.368872   "
   ]
  },
  {
   "cell_type": "code",
   "execution_count": null,
   "metadata": {},
   "outputs": [],
   "source": [
    "folium.CircleMarker([latitude_1, longitude_1],\n",
    "              color=\"black\",\n",
    "              radius = 20,\n",
    "              tooltip=\"대덕대로179 인근\").add_to(m)\n",
    "\n",
    "folium.CircleMarker([latitude_2, longitude_2],\n",
    "              color=\"black\",\n",
    "              radius = 20,\n",
    "              tooltip=\"수협은행둔산지점 인근\").add_to(m)\n",
    "\n",
    "folium.CircleMarker([latitude_3, longitude_3],\n",
    "              color=\"black\",\n",
    "              radius = 20,\n",
    "              tooltip=\"계룡로네거리 인근\").add_to(m)\n",
    "\n",
    "folium.CircleMarker([latitude_4, longitude_4],\n",
    "              color=\"black\",\n",
    "              radius = 20,\n",
    "              tooltip=\"계룡로네거리 인근\").add_to(m)\n",
    "\n",
    "folium.CircleMarker([latitude_5, longitude_5],\n",
    "              color=\"black\",\n",
    "              radius = 20,\n",
    "              tooltip=\"갈마네거리 인근\").add_to(m)"
   ]
  },
  {
   "cell_type": "code",
   "execution_count": null,
   "metadata": {},
   "outputs": [],
   "source": [
    "import json\n",
    "\n",
    "file_path = '지도 시각화/daejeon.json'\n",
    "json_data = []\n",
    "\n",
    "with open(file_path, mode='rt', encoding='utf-8') as f:\n",
    "    for line in f:\n",
    "        geo = json_data.append(json.loads(line))\n",
    "    f.close()"
   ]
  },
  {
   "cell_type": "code",
   "execution_count": null,
   "metadata": {},
   "outputs": [],
   "source": [
    "bordersStyle={\n",
    "'color': '#9999FF',\n",
    "'weight': 2,\n",
    "'fillColor': '#9999FF',\n",
    "'fillOpacit': 0\n",
    "} \n",
    "\n",
    "folium.GeoJson(geo, name='daejeon', style_function=lambda x:bordersStyle).add_to(m)"
   ]
  },
  {
   "cell_type": "code",
   "execution_count": null,
   "metadata": {},
   "outputs": [],
   "source": [
    "m"
   ]
  },
  {
   "cell_type": "code",
   "execution_count": null,
   "metadata": {},
   "outputs": [],
   "source": [
    "import webbrowser\n",
    "m.save('대전광역시.html')\n",
    "webbrowser.open_new(\"대전광역시.html\")"
   ]
  }
 ],
 "metadata": {
  "kernelspec": {
   "display_name": "Python 3 (ipykernel)",
   "language": "python",
   "name": "python3"
  },
  "language_info": {
   "codemirror_mode": {
    "name": "ipython",
    "version": 3
   },
   "file_extension": ".py",
   "mimetype": "text/x-python",
   "name": "python",
   "nbconvert_exporter": "python",
   "pygments_lexer": "ipython3",
   "version": "3.9.7"
  },
  "vscode": {
   "interpreter": {
    "hash": "0a6afe0b0dca26bed7d71640a78ce7616cd216d1dd54e297bce51db5f94c3b37"
   }
  }
 },
 "nbformat": 4,
 "nbformat_minor": 2
}
